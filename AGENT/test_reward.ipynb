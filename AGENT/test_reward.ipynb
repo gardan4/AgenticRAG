{
 "cells": [
  {
   "cell_type": "code",
   "execution_count": 1,
   "id": "7d0a18ed",
   "metadata": {},
   "outputs": [
    {
     "name": "stderr",
     "output_type": "stream",
     "text": [
      "c:\\Users\\Marc\\Desktop\\AgenticRAG\\.venv\\Lib\\site-packages\\tqdm\\auto.py:21: TqdmWarning: IProgress not found. Please update jupyter and ipywidgets. See https://ipywidgets.readthedocs.io/en/stable/user_install.html\n",
      "  from .autonotebook import tqdm as notebook_tqdm\n"
     ]
    }
   ],
   "source": [
    "from reward_components import score_single, batch_weighted_reward\n",
    "import json, textwrap\n"
   ]
  },
  {
   "cell_type": "code",
   "execution_count": 2,
   "id": "79427e08",
   "metadata": {},
   "outputs": [
    {
     "name": "stdout",
     "output_type": "stream",
     "text": [
      "SSL connections do not verify certificate hostnames\n"
     ]
    }
   ],
   "source": [
    "import json, textwrap\n",
    "row_txt = textwrap.dedent(\"\"\"\n",
    "{\"sprint_name\": \"Java Sprint 16\", \"sprint_goal\": \"Ensure SSL connections verify certificate hostnames correctly.\", \"formatted_issues\": \"SSL connections do not verify certificate hostnames\", \"num_issues\": 1}\n",
    "\"\"\").strip()\n",
    "\n",
    "row = json.loads(row_txt)\n",
    "reference_block = row[\"formatted_issues\"]\n",
    "print(reference_block)\n",
    "# → - \"SSL connections do not verify certificate hostnames\"\n"
   ]
  },
  {
   "cell_type": "code",
   "execution_count": 3,
   "id": "d759960b",
   "metadata": {},
   "outputs": [],
   "source": [
    "\n",
    "# ░░ Fake completion from the model (copy‑paste your own) ░░\n",
    "completion = textwrap.dedent(\"\"\" [Story 1] and [Story 2].\n",
    "Alright, so I need to generate user stories for a Scrum Master's sprint goal. The goal is to ensure SSL connections verify certificate hostnames correctly. Let me break this down step by step.\n",
    "\n",
    "First, I should understand the problem. SSL connections are essential for secure communication, and verifying certificate hostnames is a critical part of this. SSL certificates are issued by certificate authorities, which are often TAs (Triple Nested AS), and their hostnames are used to verify the certificate's identity.\n",
    "\n",
    "The user story should be clear and aligned with the sprint goal. It needs to be specific, measurable, achievable, relevant, and time-bound (SMT). \n",
    "\n",
    "Let me think about the roles involved. There might be different users like a user who needs SSL connections, a developer setting up SSL configurations, and a security manager verifying certificate hostnames.\n",
    "\n",
    "Story 1: As a user, I want to ensure that SSL connections verify certificate hostnames correctly. So, the user needs a way to test this functionality. I should specify what this feature should do. Maybe it should verify that SSL connections correctly validate certificate hostnames when a certificate is requested.\n",
    "\n",
    "Story 2: As a developer, I want to set up SSL configurations that verify certificate hostnames. This might involve creating a configuration file, ensuring SSL is enabled, and configuring the certificate's hostnames to match the certificate authority's hostnames.\n",
    "\n",
    "Story 3: As a security manager, I want to verify certificate hostnames when a user requests a certificate. This could involve writing a test script that runs SSL requests with certificate requests and checks if the hostnames are correct.\n",
    "\n",
    "Wait, but the user mentioned two user stories. So, I need to make sure both are specific and measurable.\n",
    "\n",
    "Story 1: As a user, I want to ensure that SSL connections correctly verify certificate hostnames. So, the user would input a certificate and expect the SSL connection to validate the certificate's hostname.\n",
    "\n",
    "Story 2: As a developer, I want to set up SSL connections that correctly verify certificate hostnames. So, the developer would configure SSL settings and set certificate hostnames correctly.\n",
    "\n",
    "I should ensure that both stories are aligned with the sprint goal. Story 1 is about testing, ensuring SSL connections work correctly. Story 2 is about setting up the configuration, which is part of the SSL setup.\n",
    "\n",
    "Let me think about the features each story should include. For Story 1, the user would input a certificate, and the SSL connection should validate it. For Story 2, the developer would set up SSL configurations, including certificate requests, and verify the hostnames.\n",
    "\n",
    "I should make sure the user stories are clear and direct. Each should specify the action the user wants to take, the expected outcome, and how they can achieve it.\n",
    "\n",
    "Alright, I think I have a solid plan for the two user stories. Let me write them out in the required format.\n",
    "</think>\n",
    "\n",
    "**User Story 1: SSL Connection Validation for Certificate Hostnames**\n",
    "\n",
    "As a user, I want to Ensure SSL connections are verifying certificate hostnames correctly.\n",
    "\n",
    "**Action:**\n",
    "- Input a certificate.\n",
    "- The SSL connection should validate the certificate's hostname.\n",
    "\n",
    "**Benefit:**\n",
    "- SSL connections correctly verify certificate hostnames.\n",
    "\n",
    "**User Story 2: SSL Configuration for certificate verification**\n",
    "\n",
    "As a developer, I want to configure SSL settings to ensure that certificate hostnames are correctly verified when a certificate is requested.\n",
    "\n",
    "**Action:**\n",
    "- Set SSL configuration.\n",
    "- Configure certificate requests.\n",
    "- Verify certificate hostnames match the certificate authority's hostnames.\n",
    "\n",
    "**Benefit:**\n",
    "- SSL connections correctly verify certificate hostnames.\n",
    "\n",
    "Each user story is specific, measurable, achievable, relevant, and time-bound, ensuring alignment with the sprint goal.\"\"\")\n"
   ]
  },
  {
   "cell_type": "code",
   "execution_count": 4,
   "id": "877bdf41",
   "metadata": {},
   "outputs": [
    {
     "name": "stdout",
     "output_type": "stream",
     "text": [
      "---- Detailed per‑component breakdown ----\n",
      "[['**user story 1: ssl connection validation for certificate hostnames', 'as a user, i want to ensure ssl connections are verifying certificate hostnames correctly', '**action', '- input a certificate', \"- the ssl connection should validate the certificate's hostname\", '**benefit', '- ssl connections correctly verify certificate hostnames', '**user story 2: ssl configuration for certificate verification', 'as a developer, i want to configure ssl settings to ensure that certificate hostnames are correctly verified when a certificate is requested', '**action', '- set ssl configuration', '- configure certificate requests', \"- verify certificate hostnames match the certificate authority's hostnames\", '**benefit', '- ssl connections correctly verify certificate hostnames', 'each user story is specific, measurable, achievable, relevant, and time-bound, ensuring alignment with the sprint goal']]\n",
      "r_regex        : +0.000 * 0.35 = +0.000\n",
      "r_clause       : +0.083 * 0.25 = +0.021\n",
      "r_coverage     : +0.914 * 0.10 = +0.091\n",
      "r_count        : +0.001 * 0.05 = +0.000\n",
      "r_length       : +0.578 * 0.25 = +0.144\n",
      "p_redundancy   : -0.625 * 0.20 = -0.125\n",
      "p_extraneous   : -0.917 * 0.10 = -0.092\n",
      "----------------------------------------\n"
     ]
    },
    {
     "data": {
      "text/plain": [
       "0.04001219022727737"
      ]
     },
     "execution_count": 4,
     "metadata": {},
     "output_type": "execute_result"
    }
   ],
   "source": [
    "\n",
    "print(\"---- Detailed per‑component breakdown ----\")\n",
    "score_single(completion, reference_block, verbose=True)\n"
   ]
  },
  {
   "cell_type": "code",
   "execution_count": 5,
   "id": "9cbfc482",
   "metadata": {},
   "outputs": [
    {
     "name": "stdout",
     "output_type": "stream",
     "text": [
      "\n",
      "---- Batch demo (3 completions) ----\n",
      "[['**user story 1: ssl connection validation for certificate hostnames', 'as a user, i want to ensure ssl connections are verifying certificate hostnames correctly', '**action', '- input a certificate', \"- the ssl connection should validate the certificate's hostname\", '**benefit', '- ssl connections correctly verify certificate hostnames', '**user story 2: ssl configuration for certificate verification', 'as a developer, i want to configure ssl settings to ensure that certificate hostnames are correctly verified when a certificate is requested', '**action', '- set ssl configuration', '- configure certificate requests', \"- verify certificate hostnames match the certificate authority's hostnames\", '**benefit', '- ssl connections correctly verify certificate hostnames', 'each user story is specific, measurable, achievable, relevant, and time-bound, ensuring alignment with the sprint goal'], ['**user story 1: ssl connection validation for certificate hostnames', 'as a user, i want to ensure ssl connections are verifying certificate hostnames correctly', '**action', '- input a certificate', \"- the ssl connection should validate the certificate's hostname\", '**benefit', '- ssl connections correctly verify certificate hostnames', '**user story 2: ssl configuration for certificate verification', 'as a developer, i want to configure ssl settings to ensure that certificate hostnames are correctly verified when a certificate is requested', '**action', '- set ssl configuration', '- configure certificate requests', \"- verify certificate hostnames match the certificate authority's hostnames\", '**benefit', '- ssl connections correctly verify certificate hostnames', 'each user story is specific, measurable, achievable, relevant, and time-bound, ensuring alignment with the sprint goal'], ['**user story 1: ssl connection validation for certificate hostnames', 'as a user, i want to ensure ssl connections are verifying certificate hostnames correctly', '**action', '- input a certificate', \"- the ssl connection should validate the certificate's hostname\", '**benefit', '- ssl connections correctly verify certificate hostnames', '**user story 2: ssl configuration for certificate verification', 'as a developer, i want to configure ssl settings to ensure that certificate hostnames are correctly verified when a certificate is requested', '**action', '- set ssl configuration', '- configure certificate requests', \"- verify certificate hostnames match the certificate authority's hostnames\", '**benefit', '- ssl connections correctly verify certificate hostnames', 'each user story is specific, measurable, achievable, relevant, and time-bound, ensuring alignment with the sprint goal']]\n",
      "'Alright, so I need to generate user stories for a Scrum Mast…'  ->  +0.040\n",
      "'ALRIGHT, SO I NEED TO GENERATE USER STORIES FOR A SCRUM MAST…'  ->  +0.040\n",
      "'alright, so i need to generate user stories for a scrum mast…'  ->  +0.040\n"
     ]
    }
   ],
   "source": [
    "\n",
    "print(\"\\n---- Batch demo (3 completions) ----\")\n",
    "completions = [completion, completion.upper(), completion.lower()]\n",
    "refs        = [reference_block]*3\n",
    "for c, sc in zip(completions, batch_weighted_reward(completions, refs)):\n",
    "    short = c.splitlines()[1][:60] + \"…\"\n",
    "    print(f\"{short!r}  ->  {sc:+.3f}\")\n"
   ]
  }
 ],
 "metadata": {
  "kernelspec": {
   "display_name": ".venv",
   "language": "python",
   "name": "python3"
  },
  "language_info": {
   "codemirror_mode": {
    "name": "ipython",
    "version": 3
   },
   "file_extension": ".py",
   "mimetype": "text/x-python",
   "name": "python",
   "nbconvert_exporter": "python",
   "pygments_lexer": "ipython3",
   "version": "3.12.8"
  }
 },
 "nbformat": 4,
 "nbformat_minor": 5
}
